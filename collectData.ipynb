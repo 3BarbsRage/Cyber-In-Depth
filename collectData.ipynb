{
 "cells": [
  {
   "cell_type": "code",
   "execution_count": null,
   "id": "a26db65d",
   "metadata": {},
   "outputs": [],
   "source": [
    "import csv\n",
    "import speedtest\n",
    "import time\n",
    "import subprocess\n",
    "import psutil\n",
    "from datetime import datetime"
   ]
  },
  {
   "cell_type": "code",
   "execution_count": null,
   "id": "3d802442",
   "metadata": {},
   "outputs": [],
   "source": [
    "def measure_latency(router_ip):\n",
    "    ping_output = subprocess.check_output(['ping', '-c', 'a', router_ip])\n",
    "    lines = ping_output.decode('utf-8').split('\\n')\n",
    "    myStr = lines[-2][0:-3]\n",
    "    eqCounter = 0\n",
    "    for letterIndex in range(len(myStr)):\n",
    "        if myStr[letterIndex] == \"=\":\n",
    "            eqCounter+=1\n",
    "        if eqCounter == 3:\n",
    "            myStr = int(myStr[letterIndex+2:len(myStr)])\n",
    "            break\n",
    "    return myStr"
   ]
  },
  {
   "cell_type": "code",
   "execution_count": null,
   "id": "b675ca13",
   "metadata": {},
   "outputs": [],
   "source": [
    "def measure_packet_loss(router_ip):\n",
    "    ping_output = subprocess.check_output(['ping', '-c', 'a', router_ip])\n",
    "    lines = ping_output.decode('utf-8').split('\\n')\n",
    "    myStr = lines[8][-12:-7]\n",
    "    if myStr[0] == ' ' or  myStr[0] == '(':\n",
    "        myStr = myStr[1:-1]\n",
    "        if myStr[0] == ' ' or  myStr[0] == '(':\n",
    "            myStr = myStr[1:-1]\n",
    "        else:\n",
    "            myStr = myStr[0:-1]\n",
    "    else:\n",
    "        myStr = myStr[0:-1]\n",
    "    return(myStr)"
   ]
  },
  {
   "cell_type": "code",
   "execution_count": null,
   "id": "ab81f7b4",
   "metadata": {},
   "outputs": [],
   "source": [
    "def measure_speed():\n",
    "        speedtest_output = subprocess.check_output(['speedtest-cli', '--simple']).decode('utf-8')\n",
    "        lines = speedtest_output.split('\\n')\n",
    "        download_speed = float(lines[1].split()[1])\n",
    "        upload_speed = float(lines[2].split()[1])\n",
    "        return download_speed, upload_speed"
   ]
  },
  {
   "cell_type": "code",
   "execution_count": null,
   "id": "8d41a060",
   "metadata": {},
   "outputs": [],
   "source": [
    "def write_to_csv(data):\n",
    "    with open('network_metrics.csv', 'a', newline='') as csvfile:\n",
    "        fieldnames = ['Timestamp', 'Latency (ms)', 'Packet Loss (%)', 'Download Speed (Mbps)', 'Upload Speed (Mbps)', 'isFail']\n",
    "        writer = csv.DictWriter(csvfile, fieldnames=fieldnames)\n",
    "        writer.writerow(data)"
   ]
  },
  {
   "cell_type": "code",
   "execution_count": 47,
   "id": "71f5e295",
   "metadata": {
    "scrolled": true
   },
   "outputs": [
    {
     "name": "stdout",
     "output_type": "stream",
     "text": [
      "Data recorded at 2024-03-24 15:20:59\n",
      "Data recorded at 2024-03-24 15:21:24\n"
     ]
    },
    {
     "ename": "KeyboardInterrupt",
     "evalue": "",
     "output_type": "error",
     "traceback": [
      "\u001b[1;31m---------------------------------------------------------------------------\u001b[0m",
      "\u001b[1;31mKeyboardInterrupt\u001b[0m                         Traceback (most recent call last)",
      "Cell \u001b[1;32mIn[47], line 26\u001b[0m\n\u001b[0;32m     24\u001b[0m         time\u001b[38;5;241m.\u001b[39msleep(interval_seconds)\n\u001b[0;32m     25\u001b[0m \u001b[38;5;28;01mif\u001b[39;00m \u001b[38;5;18m__name__\u001b[39m \u001b[38;5;241m==\u001b[39m \u001b[38;5;124m\"\u001b[39m\u001b[38;5;124m__main__\u001b[39m\u001b[38;5;124m\"\u001b[39m:\n\u001b[1;32m---> 26\u001b[0m     main()\n",
      "Cell \u001b[1;32mIn[47], line 11\u001b[0m, in \u001b[0;36mmain\u001b[1;34m()\u001b[0m\n\u001b[0;32m      9\u001b[0m latency \u001b[38;5;241m=\u001b[39m measure_latency(router_ip)\n\u001b[0;32m     10\u001b[0m packet_loss \u001b[38;5;241m=\u001b[39m measure_packet_loss(router_ip)\n\u001b[1;32m---> 11\u001b[0m download_speed, upload_speed \u001b[38;5;241m=\u001b[39m measure_speed()\n\u001b[0;32m     13\u001b[0m data \u001b[38;5;241m=\u001b[39m {\n\u001b[0;32m     14\u001b[0m     \u001b[38;5;124m'\u001b[39m\u001b[38;5;124mTimestamp\u001b[39m\u001b[38;5;124m'\u001b[39m: timestamp,\n\u001b[0;32m     15\u001b[0m     \u001b[38;5;124m'\u001b[39m\u001b[38;5;124mLatency (ms)\u001b[39m\u001b[38;5;124m'\u001b[39m: latency,\n\u001b[1;32m   (...)\u001b[0m\n\u001b[0;32m     19\u001b[0m     \u001b[38;5;124m'\u001b[39m\u001b[38;5;124misFail\u001b[39m\u001b[38;5;124m'\u001b[39m: \u001b[38;5;28;01mFalse\u001b[39;00m\n\u001b[0;32m     20\u001b[0m }\n\u001b[0;32m     22\u001b[0m write_to_csv(data)\n",
      "Cell \u001b[1;32mIn[44], line 2\u001b[0m, in \u001b[0;36mmeasure_speed\u001b[1;34m()\u001b[0m\n\u001b[0;32m      1\u001b[0m \u001b[38;5;28;01mdef\u001b[39;00m \u001b[38;5;21mmeasure_speed\u001b[39m():\n\u001b[1;32m----> 2\u001b[0m         speedtest_output \u001b[38;5;241m=\u001b[39m subprocess\u001b[38;5;241m.\u001b[39mcheck_output([\u001b[38;5;124m'\u001b[39m\u001b[38;5;124mspeedtest-cli\u001b[39m\u001b[38;5;124m'\u001b[39m, \u001b[38;5;124m'\u001b[39m\u001b[38;5;124m--simple\u001b[39m\u001b[38;5;124m'\u001b[39m])\u001b[38;5;241m.\u001b[39mdecode(\u001b[38;5;124m'\u001b[39m\u001b[38;5;124mutf-8\u001b[39m\u001b[38;5;124m'\u001b[39m)\n\u001b[0;32m      3\u001b[0m         lines \u001b[38;5;241m=\u001b[39m speedtest_output\u001b[38;5;241m.\u001b[39msplit(\u001b[38;5;124m'\u001b[39m\u001b[38;5;130;01m\\n\u001b[39;00m\u001b[38;5;124m'\u001b[39m)\n\u001b[0;32m      4\u001b[0m         download_speed \u001b[38;5;241m=\u001b[39m \u001b[38;5;28mfloat\u001b[39m(lines[\u001b[38;5;241m1\u001b[39m]\u001b[38;5;241m.\u001b[39msplit()[\u001b[38;5;241m1\u001b[39m])\n",
      "File \u001b[1;32m~\\anaconda3\\Lib\\subprocess.py:466\u001b[0m, in \u001b[0;36mcheck_output\u001b[1;34m(timeout, *popenargs, **kwargs)\u001b[0m\n\u001b[0;32m    463\u001b[0m         empty \u001b[38;5;241m=\u001b[39m \u001b[38;5;124mb\u001b[39m\u001b[38;5;124m'\u001b[39m\u001b[38;5;124m'\u001b[39m\n\u001b[0;32m    464\u001b[0m     kwargs[\u001b[38;5;124m'\u001b[39m\u001b[38;5;124minput\u001b[39m\u001b[38;5;124m'\u001b[39m] \u001b[38;5;241m=\u001b[39m empty\n\u001b[1;32m--> 466\u001b[0m \u001b[38;5;28;01mreturn\u001b[39;00m run(\u001b[38;5;241m*\u001b[39mpopenargs, stdout\u001b[38;5;241m=\u001b[39mPIPE, timeout\u001b[38;5;241m=\u001b[39mtimeout, check\u001b[38;5;241m=\u001b[39m\u001b[38;5;28;01mTrue\u001b[39;00m,\n\u001b[0;32m    467\u001b[0m            \u001b[38;5;241m*\u001b[39m\u001b[38;5;241m*\u001b[39mkwargs)\u001b[38;5;241m.\u001b[39mstdout\n",
      "File \u001b[1;32m~\\anaconda3\\Lib\\subprocess.py:550\u001b[0m, in \u001b[0;36mrun\u001b[1;34m(input, capture_output, timeout, check, *popenargs, **kwargs)\u001b[0m\n\u001b[0;32m    548\u001b[0m \u001b[38;5;28;01mwith\u001b[39;00m Popen(\u001b[38;5;241m*\u001b[39mpopenargs, \u001b[38;5;241m*\u001b[39m\u001b[38;5;241m*\u001b[39mkwargs) \u001b[38;5;28;01mas\u001b[39;00m process:\n\u001b[0;32m    549\u001b[0m     \u001b[38;5;28;01mtry\u001b[39;00m:\n\u001b[1;32m--> 550\u001b[0m         stdout, stderr \u001b[38;5;241m=\u001b[39m process\u001b[38;5;241m.\u001b[39mcommunicate(\u001b[38;5;28minput\u001b[39m, timeout\u001b[38;5;241m=\u001b[39mtimeout)\n\u001b[0;32m    551\u001b[0m     \u001b[38;5;28;01mexcept\u001b[39;00m TimeoutExpired \u001b[38;5;28;01mas\u001b[39;00m exc:\n\u001b[0;32m    552\u001b[0m         process\u001b[38;5;241m.\u001b[39mkill()\n",
      "File \u001b[1;32m~\\anaconda3\\Lib\\subprocess.py:1194\u001b[0m, in \u001b[0;36mPopen.communicate\u001b[1;34m(self, input, timeout)\u001b[0m\n\u001b[0;32m   1192\u001b[0m     \u001b[38;5;28mself\u001b[39m\u001b[38;5;241m.\u001b[39m_stdin_write(\u001b[38;5;28minput\u001b[39m)\n\u001b[0;32m   1193\u001b[0m \u001b[38;5;28;01melif\u001b[39;00m \u001b[38;5;28mself\u001b[39m\u001b[38;5;241m.\u001b[39mstdout:\n\u001b[1;32m-> 1194\u001b[0m     stdout \u001b[38;5;241m=\u001b[39m \u001b[38;5;28mself\u001b[39m\u001b[38;5;241m.\u001b[39mstdout\u001b[38;5;241m.\u001b[39mread()\n\u001b[0;32m   1195\u001b[0m     \u001b[38;5;28mself\u001b[39m\u001b[38;5;241m.\u001b[39mstdout\u001b[38;5;241m.\u001b[39mclose()\n\u001b[0;32m   1196\u001b[0m \u001b[38;5;28;01melif\u001b[39;00m \u001b[38;5;28mself\u001b[39m\u001b[38;5;241m.\u001b[39mstderr:\n",
      "\u001b[1;31mKeyboardInterrupt\u001b[0m: "
     ]
    }
   ],
   "source": [
    "def main():\n",
    "    print(\"Enter your router IP Address\")\n",
    "    router_ip = input()  # Replace with your router's IP address\n",
    "    interval_seconds = 30  # 30s\n",
    "    with open('network_metrics.csv', 'a', newline='') as csvfile: \n",
    "        writer = csv.writer(csvfile)\n",
    "        writer.writerow(['Timestamp', 'Latency (ms)', 'Packet Loss (%)', 'Download Speed (Mbps)', 'Upload Speed (Mbps)', 'isFail'])\n",
    "    while(True):\n",
    "        timestamp = datetime.now().strftime('%Y-%m-%d %H:%M:%S')\n",
    "        latency = measure_latency(router_ip)\n",
    "        packet_loss = measure_packet_loss(router_ip)\n",
    "        download_speed, upload_speed = measure_speed()\n",
    "\n",
    "        data = {\n",
    "            'Timestamp': timestamp,\n",
    "            'Latency (ms)': latency,\n",
    "            'Packet Loss (%)': packet_loss,\n",
    "            'Download Speed (Mbps)': download_speed,\n",
    "            'Upload Speed (Mbps)': upload_speed,\n",
    "            'isFail': False\n",
    "        }\n",
    "\n",
    "        write_to_csv(data)\n",
    "        print(f'Data recorded at {timestamp}')\n",
    "        time.sleep(interval_seconds)\n",
    "if __name__ == \"__main__\":\n",
    "    main()"
   ]
  },
  {
   "cell_type": "code",
   "execution_count": null,
   "id": "d4a28fdf",
   "metadata": {},
   "outputs": [],
   "source": []
  }
 ],
 "metadata": {
  "kernelspec": {
   "display_name": "Python 3 (ipykernel)",
   "language": "python",
   "name": "python3"
  },
  "language_info": {
   "codemirror_mode": {
    "name": "ipython",
    "version": 3
   },
   "file_extension": ".py",
   "mimetype": "text/x-python",
   "name": "python",
   "nbconvert_exporter": "python",
   "pygments_lexer": "ipython3",
   "version": "3.11.3"
  }
 },
 "nbformat": 4,
 "nbformat_minor": 5
}
