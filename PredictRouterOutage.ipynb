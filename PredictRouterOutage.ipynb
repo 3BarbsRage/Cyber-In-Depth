{
 "cells": [
  {
   "cell_type": "code",
   "execution_count": 86,
   "id": "5b4474b1",
   "metadata": {},
   "outputs": [],
   "source": [
    "from tensorflow.keras.models import load_model\n",
    "import pandas as pd\n",
    "import random\n",
    "import csv\n",
    "import speedtest\n",
    "import time\n",
    "import subprocess\n",
    "import psutil\n",
    "from datetime import datetime"
   ]
  },
  {
   "cell_type": "code",
   "execution_count": 87,
   "id": "55e34d56",
   "metadata": {},
   "outputs": [],
   "source": [
    "loaded_model = load_model('TestCase.keras')"
   ]
  },
  {
   "cell_type": "code",
   "execution_count": 88,
   "id": "c5c21c66",
   "metadata": {},
   "outputs": [],
   "source": [
    "def measure_latency(router_ip):\n",
    "    ping_output = subprocess.check_output(['ping', '-c', 'a', router_ip])\n",
    "    lines = ping_output.decode('utf-8').split('\\n')\n",
    "    myStr = lines[-2][0:-3]\n",
    "    eqCounter = 0\n",
    "    for letterIndex in range(len(myStr)):\n",
    "        if myStr[letterIndex] == \"=\":\n",
    "            eqCounter+=1\n",
    "        if eqCounter == 3:\n",
    "            myStr = int(myStr[letterIndex+2:len(myStr)])\n",
    "            break\n",
    "    return myStr"
   ]
  },
  {
   "cell_type": "code",
   "execution_count": 89,
   "id": "e331bcc2",
   "metadata": {},
   "outputs": [],
   "source": [
    "def measure_packet_loss(router_ip):\n",
    "    ping_output = subprocess.check_output(['ping', '-c', 'a', router_ip])\n",
    "    lines = ping_output.decode('utf-8').split('\\n')\n",
    "    myStr = lines[8][-12:-7]\n",
    "    if myStr[0] == ' ' or  myStr[0] == '(':\n",
    "        myStr = myStr[1:-1]\n",
    "        if myStr[0] == ' ' or  myStr[0] == '(':\n",
    "            myStr = myStr[1:-1]\n",
    "        else:\n",
    "            myStr = myStr[0:-1]\n",
    "    else:\n",
    "        myStr = myStr[0:-1]\n",
    "    return(myStr)"
   ]
  },
  {
   "cell_type": "code",
   "execution_count": 90,
   "id": "a8756340",
   "metadata": {},
   "outputs": [],
   "source": [
    "def measure_speed():\n",
    "        speedtest_output = subprocess.check_output(['speedtest-cli', '--simple']).decode('utf-8')\n",
    "        lines = speedtest_output.split('\\n')\n",
    "        download_speed = float(lines[1].split()[1])\n",
    "        upload_speed = float(lines[2].split()[1])\n",
    "        return download_speed, upload_speed"
   ]
  },
  {
   "cell_type": "code",
   "execution_count": null,
   "id": "84074bd9",
   "metadata": {},
   "outputs": [
    {
     "name": "stdout",
     "output_type": "stream",
     "text": [
      "1/1 [==============================] - 0s 95ms/step\n",
      "We are 2.1712033078074455% confident there will be a distruption\n",
      "1/1 [==============================] - 0s 47ms/step\n",
      "1/1 [==============================] - 0s 34ms/step\n",
      "We are 3.115992061793804% confident there will be a distruption\n",
      "1/1 [==============================] - 0s 31ms/step\n",
      "1/1 [==============================] - 0s 35ms/step\n",
      "We are 26.474520564079285% confident there will be a distruption\n",
      "1/1 [==============================] - 0s 37ms/step\n",
      "1/1 [==============================] - 0s 34ms/step\n",
      "We are 11.34369671344757% confident there will be a distruption\n",
      "1/1 [==============================] - 0s 36ms/step\n",
      "1/1 [==============================] - 0s 34ms/step\n",
      "We are 27.152642607688904% confident there will be a distruption\n",
      "1/1 [==============================] - 0s 36ms/step\n",
      "1/1 [==============================] - 0s 43ms/step\n",
      "We are 52.433812618255615% confident there will be a distruption\n",
      "1/1 [==============================] - 0s 50ms/step\n",
      "1/1 [==============================] - 0s 36ms/step\n",
      "We are 3.917061910033226% confident there will be a distruption\n",
      "1/1 [==============================] - 0s 45ms/step\n",
      "1/1 [==============================] - 0s 37ms/step\n",
      "We are 4.163773357868195% confident there will be a distruption\n",
      "1/1 [==============================] - 0s 50ms/step\n",
      "1/1 [==============================] - 0s 31ms/step\n",
      "We are 56.36091232299805% confident there will be a distruption\n",
      "1/1 [==============================] - 0s 35ms/step\n",
      "1/1 [==============================] - 0s 33ms/step\n",
      "We are 98.78371953964233% confident there will be a distruption\n",
      "1/1 [==============================] - 0s 39ms/step\n",
      "You are at risk of distruption\n",
      "1/1 [==============================] - 0s 39ms/step\n",
      "We are 80.28824925422668% confident there will be a distruption\n",
      "1/1 [==============================] - 0s 38ms/step\n",
      "1/1 [==============================] - 0s 36ms/step\n",
      "We are 3.088683634996414% confident there will be a distruption\n",
      "1/1 [==============================] - 0s 37ms/step\n",
      "1/1 [==============================] - 0s 39ms/step\n",
      "We are 96.76891565322876% confident there will be a distruption\n",
      "1/1 [==============================] - 0s 35ms/step\n",
      "You are at risk of distruption\n"
     ]
    }
   ],
   "source": [
    "while (True):\n",
    "    print(\"Please enter your IP\")\n",
    "    router_ip = input()  # Replace with your router's IP address\n",
    "    latency = float(measure_latency(router_ip))\n",
    "    packetloss = float(measure_packet_loss(router_ip))\n",
    "    download_speed, upload_speed = measure_speed()\n",
    "    download_speed, upload_speed = float(download_speed), float(upload_speed)\n",
    "    ExData = pd.Series({'Latency (ms)': latency, 'Packet Loss (%)': packetloss, 'Download Speed (Mbps)': download_speed, 'Upload Speed (Mbps)': upload_speed})\n",
    "    inputData = ExData.values.reshape(1,-1)\n",
    "    print(\"We are\", str(100*loaded_model.predict((inputData))[0][0])+\"% confident there will be a distruption\")\n",
    "    time.sleep(4)\n",
    "    if (loaded_model.predict((inputData))[0][0] > 0.9):\n",
    "        print('You are at risk of distruption')"
   ]
  },
  {
   "cell_type": "code",
   "execution_count": null,
   "id": "6f36bd7b",
   "metadata": {},
   "outputs": [],
   "source": []
  }
 ],
 "metadata": {
  "kernelspec": {
   "display_name": "Python 3 (ipykernel)",
   "language": "python",
   "name": "python3"
  },
  "language_info": {
   "codemirror_mode": {
    "name": "ipython",
    "version": 3
   },
   "file_extension": ".py",
   "mimetype": "text/x-python",
   "name": "python",
   "nbconvert_exporter": "python",
   "pygments_lexer": "ipython3",
   "version": "3.11.3"
  }
 },
 "nbformat": 4,
 "nbformat_minor": 5
}
