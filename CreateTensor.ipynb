{
 "cells": [
  {
   "cell_type": "code",
   "execution_count": 50,
   "id": "3bebe6a5",
   "metadata": {},
   "outputs": [],
   "source": [
    "import pandas as pd\n",
    "import tensorflow as tf\n",
    "from sklearn.model_selection import train_test_split\n",
    "from sklearn.preprocessing import LabelEncoder\n",
    "from tensorflow.keras import layers, models"
   ]
  },
  {
   "cell_type": "code",
   "execution_count": 51,
   "id": "760d2367",
   "metadata": {},
   "outputs": [
    {
     "name": "stdout",
     "output_type": "stream",
     "text": [
      "Epoch 1/20\n",
      "24/24 [==============================] - 1s 8ms/step - loss: 6.2505 - accuracy: 0.0133 - val_loss: 1.1026 - val_accuracy: 0.0000e+00\n",
      "Epoch 2/20\n",
      "24/24 [==============================] - 0s 3ms/step - loss: 0.5761 - accuracy: 0.6911 - val_loss: 0.0486 - val_accuracy: 1.0000\n",
      "Epoch 3/20\n",
      "24/24 [==============================] - 0s 3ms/step - loss: 0.0463 - accuracy: 0.9920 - val_loss: 0.0059 - val_accuracy: 1.0000\n",
      "Epoch 4/20\n",
      "24/24 [==============================] - 0s 3ms/step - loss: 0.0307 - accuracy: 0.9907 - val_loss: 0.0039 - val_accuracy: 1.0000\n",
      "Epoch 5/20\n",
      "24/24 [==============================] - 0s 3ms/step - loss: 0.0293 - accuracy: 0.9907 - val_loss: 0.0037 - val_accuracy: 1.0000\n",
      "Epoch 6/20\n",
      "24/24 [==============================] - 0s 3ms/step - loss: 0.0278 - accuracy: 0.9933 - val_loss: 0.0043 - val_accuracy: 1.0000\n",
      "Epoch 7/20\n",
      "24/24 [==============================] - 0s 3ms/step - loss: 0.0295 - accuracy: 0.9933 - val_loss: 0.0040 - val_accuracy: 1.0000\n",
      "Epoch 8/20\n",
      "24/24 [==============================] - 0s 3ms/step - loss: 0.0266 - accuracy: 0.9933 - val_loss: 0.0033 - val_accuracy: 1.0000\n",
      "Epoch 9/20\n",
      "24/24 [==============================] - 0s 3ms/step - loss: 0.0264 - accuracy: 0.9920 - val_loss: 0.0035 - val_accuracy: 1.0000\n",
      "Epoch 10/20\n",
      "24/24 [==============================] - 0s 3ms/step - loss: 0.0264 - accuracy: 0.9933 - val_loss: 0.0038 - val_accuracy: 1.0000\n",
      "Epoch 11/20\n",
      "24/24 [==============================] - 0s 3ms/step - loss: 0.0260 - accuracy: 0.9920 - val_loss: 0.0044 - val_accuracy: 1.0000\n",
      "Epoch 12/20\n",
      "24/24 [==============================] - 0s 3ms/step - loss: 0.0258 - accuracy: 0.9920 - val_loss: 0.0042 - val_accuracy: 1.0000\n",
      "Epoch 13/20\n",
      "24/24 [==============================] - 0s 3ms/step - loss: 0.0258 - accuracy: 0.9920 - val_loss: 0.0042 - val_accuracy: 1.0000\n",
      "Epoch 14/20\n",
      "24/24 [==============================] - 0s 3ms/step - loss: 0.0255 - accuracy: 0.9933 - val_loss: 0.0047 - val_accuracy: 1.0000\n",
      "Epoch 15/20\n",
      "24/24 [==============================] - 0s 2ms/step - loss: 0.0258 - accuracy: 0.9933 - val_loss: 0.0040 - val_accuracy: 1.0000\n",
      "Epoch 16/20\n",
      "24/24 [==============================] - 0s 3ms/step - loss: 0.0253 - accuracy: 0.9920 - val_loss: 0.0039 - val_accuracy: 1.0000\n",
      "Epoch 17/20\n",
      "24/24 [==============================] - 0s 3ms/step - loss: 0.0245 - accuracy: 0.9933 - val_loss: 0.0042 - val_accuracy: 1.0000\n",
      "Epoch 18/20\n",
      "24/24 [==============================] - 0s 3ms/step - loss: 0.0261 - accuracy: 0.9920 - val_loss: 0.0042 - val_accuracy: 1.0000\n",
      "Epoch 19/20\n",
      "24/24 [==============================] - 0s 3ms/step - loss: 0.0248 - accuracy: 0.9933 - val_loss: 0.0053 - val_accuracy: 1.0000\n",
      "Epoch 20/20\n",
      "24/24 [==============================] - 0s 3ms/step - loss: 0.0248 - accuracy: 0.9933 - val_loss: 0.0032 - val_accuracy: 1.0000\n",
      "8/8 [==============================] - 0s 2ms/step - loss: 0.0032 - accuracy: 1.0000\n",
      "This Model is 1.0 Accurate\n"
     ]
    }
   ],
   "source": [
    "dataSet = pd.read_csv(\"network_metrics.csv\")\n",
    "labelEncoder = LabelEncoder()\n",
    "x = dataSet[['Latency (ms)', 'Packet Loss (%)', 'Download Speed (Mbps)', 'Upload Speed (Mbps)']]\n",
    "y = dataSet['isFail']\n",
    "x_train, x_test, y_train, y_test = train_test_split(x, y, test_size = 0.25)\n",
    "model = models.Sequential([\n",
    "    layers.Dense(32, activation='relu'),\n",
    "    layers.Dense(32, activation='relu'),\n",
    "    layers.Dense(16, activation='relu'),\n",
    "    layers.Dense(8, activation='relu'),\n",
    "    layers.Dense(1, activation='sigmoid')\n",
    "])\n",
    "model.compile(optimizer='adam', loss='binary_crossentropy', metrics=['accuracy'])\n",
    "model.fit(x_train,y_train, epochs=20, validation_data=(x_test,y_test))\n",
    "loss, accuracy = model.evaluate(x_test, y_test)\n",
    "print(\"This Model is\",accuracy,\"Accurate\")\n",
    "model.save(\"TestCase.keras\")"
   ]
  },
  {
   "cell_type": "code",
   "execution_count": null,
   "id": "2bb35098",
   "metadata": {},
   "outputs": [],
   "source": []
  }
 ],
 "metadata": {
  "kernelspec": {
   "display_name": "Python 3 (ipykernel)",
   "language": "python",
   "name": "python3"
  },
  "language_info": {
   "codemirror_mode": {
    "name": "ipython",
    "version": 3
   },
   "file_extension": ".py",
   "mimetype": "text/x-python",
   "name": "python",
   "nbconvert_exporter": "python",
   "pygments_lexer": "ipython3",
   "version": "3.11.3"
  }
 },
 "nbformat": 4,
 "nbformat_minor": 5
}
